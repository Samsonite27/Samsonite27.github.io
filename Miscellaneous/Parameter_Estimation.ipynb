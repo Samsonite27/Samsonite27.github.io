{
  "cells": [
    {
      "cell_type": "markdown",
      "metadata": {
        "id": "view-in-github",
        "colab_type": "text"
      },
      "source": [
        "<a href=\"https://colab.research.google.com/github/Samsonite27/Samsonite27.github.io/blob/main/Miscellaneous/Parameter_Estimation.ipynb\" target=\"_parent\"><img src=\"https://colab.research.google.com/assets/colab-badge.svg\" alt=\"Open In Colab\"/></a>"
      ]
    },
    {
      "cell_type": "markdown",
      "metadata": {
        "id": "ej13td5DKbsy"
      },
      "source": [
        "$\\text{Suppose } x_1, x_2, ..., x_n \\text{ are realisations of some } X_i \\sim Uniform(0, \\theta)$\n",
        "\n",
        "$\\text{Let } \\hat{X} := max(X_1, X_2, ..., X_n) \\text{ and } M := \\hat{X}/\\theta$\n",
        "\n",
        "$\\text{Consider some 95% confidence interval: } [M, κM] \\text{ where } \\kappa \\leq \\frac{6}{5}$\n",
        "\n",
        "$\\text{What is the minimum size of n such that this confidence interval is sufficient?}$\n",
        "\n",
        "$\\text{There is an explicit solution but I want to consider some simulation.}$\n"
      ]
    },
    {
      "cell_type": "code",
      "execution_count": null,
      "metadata": {
        "colab": {
          "background_save": true
        },
        "id": "gVgsPlBYKZRk",
        "outputId": "f6d28b63-cbd3-41a7-f966-2de61110309e"
      },
      "outputs": [
        {
          "name": "stdout",
          "output_type": "stream",
          "text": [
            "([17, 17, 17, 17, 17, 17, 17, 16, 17, 17, 17, 17, 17, 17, 17, 17, 17, 17, 17, 16, 17, 17, 17, 17, 17, 17, 17, 17, 17, 17, 17, 17, 17, 17, 17, 17, 17, 17, 17, 17, 17, 17, 17, 17, 17, 17, 17, 17, 16, 17, 17, 17, 17, 17, 17, 17, 17, 17, 17, 17, 17, 17, 17, 17, 17, 17, 17, 17, 17, 17, 17, 17, 17, 18, 17, 17, 17, 17, 17, 17, 17, 17, 17, 17, 17, 17, 17, 17, 16, 17, 17, 17, 17, 17, 17, 17, 17, 17, 17, 17], 16.97, 0.049100000000000005)\n"
          ]
        }
      ],
      "source": [
        "#Suppose first we fix our n and create a function that takes n realisations lets say 10,000 times and then returns the probability in the maximum possible interval\n",
        "\n",
        "import numpy as np\n",
        "import matplotlib.pyplot as plt\n",
        "import random as rd\n",
        "\n",
        "def X_hat_realisation(n, theta):\n",
        "  return max([rd.uniform(0, theta) for i in range(n)])\n",
        "\n",
        "def plot_X_hat(n, theta, observations, bin_number = 100):\n",
        "  density = [X_hat_realisation(n, theta) for i in range(observations)]\n",
        "  plt.hist(density, bins = bin_number, density = True)\n",
        "  plt.show()\n",
        "\n",
        "#The confidence interval says there is a 1-a% chance that the parametre of  interest is within this interval\n",
        "\n",
        "def M_realisation(n, theta):\n",
        "  return X_hat_realisation(n, theta)/theta\n",
        "\n",
        "def plot_M(n, theta, observations, bin_number = 100):\n",
        "  density = [M_realisation(n, theta) for i in range(observations)]\n",
        "  plt.hist(density, bins = bin_number, density = True)\n",
        "  plt.show()\n",
        "\n",
        "#I claim this function is theta agnostic, if I could be arsed I would fix seed but lets resort to asymptotics, maybe MSE\n",
        "'''\n",
        "plot_M(10, 1, 100000)\n",
        "plot_M(10, 100, 100000)\n",
        "'''\n",
        "#Yeah this is agnostic wohoooo\n",
        "\n",
        "#Take a realisation of M, for some fixed theta count if it is within interval repeat\n",
        "#If theta in [M, kappaM], then M\n",
        "def confidence(n, observations, theta, kappa = 1.2):\n",
        "  count = 0\n",
        "  for i in range(observations):\n",
        "    if theta / kappa <= M_realisation(n, theta) <= theta:\n",
        "      count += 1\n",
        "  return count/observations\n",
        "\n",
        "n_space = np.linspace(1, 51, 51)\n",
        "\n",
        "confidence_space = [confidence(int(n), 1000, 1) for n in n_space]\n",
        "\n",
        "#Random variable that calculates the confidence_space, returning mean and variance\n",
        "\n",
        "def confidence_space_stats(n_space, occurence, observations, kappa = 1.2):\n",
        "  _95value = []\n",
        "  for i in range(occurence):\n",
        "    temp = [confidence(int(n), observations, 1) for n in n_space]\n",
        "    for j in range(len(temp)):\n",
        "      if temp[j] >= 0.95:\n",
        "        _95value.append(j + 1)\n",
        "        break\n",
        "  return _95value, np.mean(_95value), np.var(_95value)\n",
        "\n",
        "print(confidence_space_stats(n_space, 100, 10000))\n",
        "\n",
        "\n"
      ]
    },
    {
      "cell_type": "code",
      "execution_count": null,
      "metadata": {
        "id": "YA7hpVsdPfzb"
      },
      "outputs": [],
      "source": []
    }
  ],
  "metadata": {
    "colab": {
      "provenance": [],
      "authorship_tag": "ABX9TyPRUwtTJYVmoReytg3GKOAJ",
      "include_colab_link": true
    },
    "kernelspec": {
      "display_name": "Python 3",
      "name": "python3"
    },
    "language_info": {
      "name": "python"
    }
  },
  "nbformat": 4,
  "nbformat_minor": 0
}