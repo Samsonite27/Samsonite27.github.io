{
  "nbformat": 4,
  "nbformat_minor": 0,
  "metadata": {
    "colab": {
      "provenance": [],
      "authorship_tag": "ABX9TyNbk8wWPnm8qX1WYocPpQWj",
      "include_colab_link": true
    },
    "kernelspec": {
      "name": "python3",
      "display_name": "Python 3"
    },
    "language_info": {
      "name": "python"
    }
  },
  "cells": [
    {
      "cell_type": "markdown",
      "metadata": {
        "id": "view-in-github",
        "colab_type": "text"
      },
      "source": [
        "<a href=\"https://colab.research.google.com/github/Samsonite27/Samsonite27.github.io/blob/main/Numerical_Methods_Assignment_I.ipynb\" target=\"_parent\"><img src=\"https://colab.research.google.com/assets/colab-badge.svg\" alt=\"Open In Colab\"/></a>"
      ]
    },
    {
      "cell_type": "markdown",
      "source": [
        "Notes to self:\n",
        "\n",
        "Floating Point:\n",
        "\n",
        "Article on floating point arithmetic written by Oracle: https://docs.oracle.com/cd/E19957-01/806-3568/ncg_goldberg.html\n",
        "\n",
        "Recommended by documentation: http://www.indowsway.com/floatingpoint.htm\n",
        "\n",
        "Sys documentation: https://docs.python.org/3/library/sys.html\n",
        "\n",
        "To summarise the reading:\n",
        "- Float precision dependent on hardware\n",
        "- Python built in data type limited to float datatype\n",
        "- Numpy add flexibility as seen here: https://numpy.org/doc/2.2/user/basics.types.html\n",
        "- Guard bits are used in preventing rounding errors, documentation on this is long and boring\n"
      ],
      "metadata": {
        "id": "ZG72HTrc4hvF"
      }
    },
    {
      "cell_type": "code",
      "source": [
        "import sys\n",
        "import math\n",
        "import numpy as np\n",
        "\n",
        "# Numerical accuracy is dependent on the hardware of the system\n",
        "\n",
        "print(sys.float_info)\n",
        "\n",
        "# Note math.ulp() returns twice the epsilon\n",
        "\n",
        "math.ulp(2.3)"
      ],
      "metadata": {
        "colab": {
          "base_uri": "https://localhost:8080/"
        },
        "id": "cL-uxAfI1xBK",
        "outputId": "09dba988-d2ef-4ef8-bc39-bdb5f684e327"
      },
      "execution_count": 5,
      "outputs": [
        {
          "output_type": "stream",
          "name": "stdout",
          "text": [
            "sys.float_info(max=1.7976931348623157e+308, max_exp=1024, max_10_exp=308, min=2.2250738585072014e-308, min_exp=-1021, min_10_exp=-307, dig=15, mant_dig=53, epsilon=2.220446049250313e-16, radix=2, rounds=1)\n"
          ]
        },
        {
          "output_type": "execute_result",
          "data": {
            "text/plain": [
              "4.440892098500626e-16"
            ]
          },
          "metadata": {},
          "execution_count": 5
        }
      ]
    },
    {
      "cell_type": "markdown",
      "source": [
        "Suppose we have a quadratic equation in the form:\n",
        "\n",
        "$$x^2 + 2px - q = 0$$\n",
        "\n",
        "Then the solutions are given by:\n",
        "\n",
        "$$x_{\\pm} = -p \\pm \\sqrt{p^2 + q}$$\n",
        "\n",
        "We are only interested in the solutions where $x \\in \\mathbb{R}$.\n",
        "We give an implementation below."
      ],
      "metadata": {
        "id": "ww0ZmLW4xlNL"
      }
    },
    {
      "cell_type": "code",
      "execution_count": 48,
      "metadata": {
        "id": "8eYt2AzApUjU"
      },
      "outputs": [],
      "source": [
        "def x_plus(p, q): # Note to self will be an error when p^2 = - q use isclose() method\n",
        "  '''\n",
        "  Finds the greater root to the associated quadratic equation.\n",
        "\n",
        "  Args:\n",
        "    p (int or float): half x coefficient\n",
        "    q (int or float): negative of constant term\n",
        "\n",
        "  Returns:\n",
        "    float: finite representation of positive root\n",
        "\n",
        "  Raises:\n",
        "    ValueError: If the determinant is negative\n",
        "  '''\n",
        "  discriminant = p ** 2 + q # Calculates descriminant\n",
        "\n",
        "  if discriminant >= 0:\n",
        "    root = -p + np.sqrt(discriminant)\n",
        "    return root # Note to self: is - p + discriminant, disciminant - p\n",
        "  else:\n",
        "    raise ValueError('Complex roots')\n",
        "\n",
        "\n",
        "def x_minus(p, q):\n",
        "  '''\n",
        "  Finds the greater root to the associated quadratic equation.\n",
        "\n",
        "  Args:\n",
        "    p (int or float): half x coefficient\n",
        "    q (int or float): negative of constant term\n",
        "\n",
        "  Returns:\n",
        "    float: finite representation of positive root\n",
        "\n",
        "  Raises:\n",
        "    ValueError: If the determinant is negative\n",
        "  '''\n",
        "  discriminant = p ** 2 + q # Calculates descriminant\n",
        "\n",
        "  if discriminant >= 0:\n",
        "    root = -p - np.sqrt(discriminant) # Note to self: is - p + discriminant, disciminant - p\n",
        "    return root\n",
        "  else:\n",
        "    raise ValueError('Complex roots')\n"
      ]
    },
    {
      "cell_type": "code",
      "source": [
        "def linear_interpolate(f, x_0, x_1, x):\n",
        "  '''\n",
        "  Returns the value p(x) for fixed x, where p is the linear interpolant,\n",
        "  between x_0 and x_1\n",
        "\n",
        "  Args:\n",
        "    f (function): function on x_0 and x_1, takes one argument\n",
        "    x_0: real number in the domain of f\n",
        "    x_1: real number in the domain of f\n",
        "\n",
        "  Returns:\n",
        "    float: value of p(x)\n",
        "\n",
        "  Raises:\n",
        "    ValueError\n",
        "  '''\n",
        "  y_0 = f(x_0)\n",
        "  y_1 = f(x_1)\n",
        "\n",
        "  denominator = x_1 - x_0\n",
        "\n",
        "  if denominator == 0: # Check to see if points are distinct\n",
        "    raise ValueError('x points are not distinct')\n",
        "  else:\n",
        "    numerator = y_0 * (x - x_0) + y_1 * (x_1 - x)\n",
        "    result = numerator / denominator\n",
        "    return result"
      ],
      "metadata": {
        "id": "5g3YsUZb12bL"
      },
      "execution_count": 53,
      "outputs": []
    },
    {
      "cell_type": "code",
      "source": [
        "def interpolation_error(f, x_0, x_1, x):\n",
        "  '''\n",
        "  Finds the (signed) error between a known function and a linear interpolant\n",
        "\n",
        "   Args:\n",
        "      f (function): function on x_0 and x_1, takes one argument\n",
        "      x_0: real number in the domain of f\n",
        "      x_1: real number in the domain of f\n",
        "\n",
        "    Returns:\n",
        "      float: value of p(x)\n",
        "\n",
        "  '''\n",
        "  result = f(x) - linear_interpolate(f, x_0, x_1, x)\n",
        "  return result"
      ],
      "metadata": {
        "id": "S-IBPmATshBg"
      },
      "execution_count": 52,
      "outputs": []
    },
    {
      "cell_type": "code",
      "source": [
        "def lagrange(k, x, nodes): # is k + 1 not just len(nodes)\n",
        "  '''\n",
        "  Computes the k-th polynomial for the nodes and evaluates at point x\n",
        "\n",
        "  Args:\n",
        "    k (int): degree of the polynomial\n",
        "    x (float): evaluation point\n",
        "    nodes (array): an 1d array-like\n",
        "\n",
        "  Returns:\n",
        "    float: L_k(x)\n",
        "  '''\n",
        "  node_number = len(nodes)\n",
        "  x_k = nodes[k]\n",
        "  nodes.pop(k)\n",
        "\n",
        "  product = 1\n",
        "\n",
        "  for node in nodes:\n",
        "    product *= (x - node)/(x_k - node)\n",
        "\n",
        "  return product"
      ],
      "metadata": {
        "id": "xNiyxtsg3OSb"
      },
      "execution_count": 55,
      "outputs": []
    },
    {
      "cell_type": "code",
      "source": [
        "def lagrange_interp(x, nodes, values):\n",
        "  '''\n",
        "  '''\n",
        "  sum = 0\n",
        "  for i in range(nodes):\n",
        "    sum += values[i] * nodes[i]\n",
        "  return sum"
      ],
      "metadata": {
        "id": "mJQuGKBhAE2l"
      },
      "execution_count": 58,
      "outputs": []
    },
    {
      "cell_type": "code",
      "source": [
        "def my_function(x):\n",
        "  return 1/(1 + x ** 2)"
      ],
      "metadata": {
        "id": "mDafnE_bB8s-"
      },
      "execution_count": 59,
      "outputs": []
    },
    {
      "cell_type": "code",
      "source": [
        "x = np.linspace(-5, 5)"
      ],
      "metadata": {
        "id": "ooSbRvDwIM1N"
      },
      "execution_count": null,
      "outputs": []
    }
  ]
}