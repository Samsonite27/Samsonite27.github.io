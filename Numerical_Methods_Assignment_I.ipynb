{
  "nbformat": 4,
  "nbformat_minor": 0,
  "metadata": {
    "colab": {
      "provenance": [],
      "authorship_tag": "ABX9TyMcxczTtAIna5BR9m6YTT4u",
      "include_colab_link": true
    },
    "kernelspec": {
      "name": "python3",
      "display_name": "Python 3"
    },
    "language_info": {
      "name": "python"
    }
  },
  "cells": [
    {
      "cell_type": "markdown",
      "metadata": {
        "id": "view-in-github",
        "colab_type": "text"
      },
      "source": [
        "<a href=\"https://colab.research.google.com/github/Samsonite27/Samsonite27.github.io/blob/main/Numerical_Methods_Assignment_I.ipynb\" target=\"_parent\"><img src=\"https://colab.research.google.com/assets/colab-badge.svg\" alt=\"Open In Colab\"/></a>"
      ]
    },
    {
      "cell_type": "markdown",
      "source": [
        "Notes to self:\n",
        "\n",
        "Floating Point:\n",
        "\n",
        "Article on floating point arithmetic written by Oracle: https://docs.oracle.com/cd/E19957-01/806-3568/ncg_goldberg.html\n",
        "\n",
        "Recommended by documentation: http://www.indowsway.com/floatingpoint.htm\n",
        "\n",
        "Sys documentation: https://docs.python.org/3/library/sys.html\n",
        "\n",
        "To summarise the reading:\n",
        "- Float precision dependent on hardware\n",
        "- Python built in data type limited to float datatype\n",
        "- Numpy add flexibility as seen here: https://numpy.org/doc/2.2/user/basics.types.html\n",
        "- Guard bits are used in preventing rounding errors, documentation on this is long and boring\n"
      ],
      "metadata": {
        "id": "ZG72HTrc4hvF"
      }
    },
    {
      "cell_type": "code",
      "source": [
        "import sys\n",
        "import math\n",
        "import numpy as np\n",
        "import matplotlib.pyplot as plt\n",
        "# Numerical accuracy is dependent on the hardware of the system\n",
        "\n",
        "print(sys.float_info)\n",
        "\n",
        "# Note math.ulp() returns twice the epsilon\n",
        "\n",
        "math.ulp(2.3)"
      ],
      "metadata": {
        "colab": {
          "base_uri": "https://localhost:8080/"
        },
        "id": "cL-uxAfI1xBK",
        "outputId": "6949c82b-e9bf-43a8-b37c-e11acf6e6779"
      },
      "execution_count": 62,
      "outputs": [
        {
          "output_type": "stream",
          "name": "stdout",
          "text": [
            "sys.float_info(max=1.7976931348623157e+308, max_exp=1024, max_10_exp=308, min=2.2250738585072014e-308, min_exp=-1021, min_10_exp=-307, dig=15, mant_dig=53, epsilon=2.220446049250313e-16, radix=2, rounds=1)\n"
          ]
        },
        {
          "output_type": "execute_result",
          "data": {
            "text/plain": [
              "4.440892098500626e-16"
            ]
          },
          "metadata": {},
          "execution_count": 62
        }
      ]
    },
    {
      "cell_type": "markdown",
      "source": [
        "Suppose we have a quadratic equation in the form:\n",
        "\n",
        "$$x^2 + 2px - q = 0$$\n",
        "\n",
        "Then the solutions are given by:\n",
        "\n",
        "$$x_{\\pm} = -p \\pm \\sqrt{p^2 + q}$$\n",
        "\n",
        "We are only interested in the solutions where $x \\in \\mathbb{R}$.\n",
        "We give an implementation below."
      ],
      "metadata": {
        "id": "ww0ZmLW4xlNL"
      }
    },
    {
      "cell_type": "code",
      "execution_count": 48,
      "metadata": {
        "id": "8eYt2AzApUjU"
      },
      "outputs": [],
      "source": [
        "def x_plus(p, q): # Note to self will be an error when p^2 = - q use isclose() method\n",
        "  '''\n",
        "  Finds the greater root to the associated quadratic equation.\n",
        "\n",
        "  Args:\n",
        "    p (int or float): half x coefficient\n",
        "    q (int or float): negative of constant term\n",
        "\n",
        "  Returns:\n",
        "    float: finite representation of positive root\n",
        "\n",
        "  Raises:\n",
        "    ValueError: If the determinant is negative\n",
        "  '''\n",
        "  discriminant = p ** 2 + q # Calculates descriminant\n",
        "\n",
        "  if discriminant >= 0:\n",
        "    root = -p + np.sqrt(discriminant)\n",
        "    return root # Note to self: is - p + discriminant, disciminant - p\n",
        "  else:\n",
        "    raise ValueError('Complex roots')\n",
        "\n",
        "\n",
        "def x_minus(p, q):\n",
        "  '''\n",
        "  Finds the greater root to the associated quadratic equation.\n",
        "\n",
        "  Args:\n",
        "    p (int or float): half x coefficient\n",
        "    q (int or float): negative of constant term\n",
        "\n",
        "  Returns:\n",
        "    float: finite representation of positive root\n",
        "\n",
        "  Raises:\n",
        "    ValueError: If the determinant is negative\n",
        "  '''\n",
        "  discriminant = p ** 2 + q # Calculates descriminant\n",
        "\n",
        "  if discriminant >= 0:\n",
        "    root = -p - np.sqrt(discriminant) # Note to self: is - p + discriminant, disciminant - p\n",
        "    return root\n",
        "  else:\n",
        "    raise ValueError('Complex roots')\n"
      ]
    },
    {
      "cell_type": "code",
      "source": [
        "def linear_interpolate(f, x_0, x_1, x):\n",
        "  '''\n",
        "  Returns the value p(x) for fixed x, where p is the linear interpolant,\n",
        "  between x_0 and x_1\n",
        "\n",
        "  Args:\n",
        "    f (function): function on x_0 and x_1, takes one argument\n",
        "    x_0: real number in the domain of f\n",
        "    x_1: real number in the domain of f\n",
        "\n",
        "  Returns:\n",
        "    float: value of p(x)\n",
        "\n",
        "  Raises:\n",
        "    ValueError\n",
        "  '''\n",
        "  y_0 = f(x_0)\n",
        "  y_1 = f(x_1)\n",
        "\n",
        "  denominator = x_1 - x_0\n",
        "\n",
        "  if denominator == 0: # Check to see if points are distinct\n",
        "    raise ValueError('x points are not distinct')\n",
        "  else:\n",
        "    numerator = y_0 * (x - x_0) + y_1 * (x_1 - x)\n",
        "    result = numerator / denominator\n",
        "    return result"
      ],
      "metadata": {
        "id": "5g3YsUZb12bL"
      },
      "execution_count": 53,
      "outputs": []
    },
    {
      "cell_type": "code",
      "source": [
        "def interpolation_error(f, x_0, x_1, x):\n",
        "  '''\n",
        "  Finds the (signed) error between a known function and a linear interpolant\n",
        "\n",
        "   Args:\n",
        "      f (function): function on x_0 and x_1, takes one argument\n",
        "      x_0: real number in the domain of f\n",
        "      x_1: real number in the domain of f\n",
        "\n",
        "    Returns:\n",
        "      float: value of p(x)\n",
        "\n",
        "  '''\n",
        "  result = f(x) - linear_interpolate(f, x_0, x_1, x)\n",
        "  return result"
      ],
      "metadata": {
        "id": "S-IBPmATshBg"
      },
      "execution_count": 52,
      "outputs": []
    },
    {
      "cell_type": "code",
      "source": [
        "def lagrange(k, x, nodes): # is k + 1 not just len(nodes)\n",
        "  '''\n",
        "  Computes the k-th polynomial for the nodes and evaluates at point x\n",
        "\n",
        "  Args:\n",
        "    k (int): degree of the polynomial\n",
        "    x (float): evaluation point\n",
        "    nodes (array): an 1d array-like\n",
        "\n",
        "  Returns:\n",
        "    float: L_k(x)\n",
        "  '''\n",
        "  copy = nodes\n",
        "  node_number = len(nodes)\n",
        "  x_k = copy.pop(k)\n",
        "\n",
        "  product = 1\n",
        "\n",
        "  for node in nodes:\n",
        "    product *= (x - node)/(x_k - node)\n",
        "\n",
        "  return product\n",
        ""
      ],
      "metadata": {
        "id": "xNiyxtsg3OSb"
      },
      "execution_count": 108,
      "outputs": []
    },
    {
      "cell_type": "code",
      "source": [
        "def lagrange_interp(x, nodes, values):\n",
        "  '''\n",
        "  '''\n",
        "  sum = 0\n",
        "  for i in range(len(nodes)):\n",
        "    sum += values[i] * lagrange(i, nodes[i], nodes)\n",
        "  return sum"
      ],
      "metadata": {
        "id": "mJQuGKBhAE2l"
      },
      "execution_count": 109,
      "outputs": []
    },
    {
      "cell_type": "code",
      "source": [
        "def my_function(x):\n",
        "  return 1/(1 + x ** 2)"
      ],
      "metadata": {
        "id": "mDafnE_bB8s-"
      },
      "execution_count": 110,
      "outputs": []
    },
    {
      "cell_type": "code",
      "source": [
        "x = np.linspace(-5, 5, 100)\n",
        "y = [my_function(i) for i in x]\n",
        "\n",
        "nodes = [i for i in range(-5, 5)]\n",
        "print(len(nodes))\n",
        "values = [my_function(node) for node in nodes]\n",
        "print(len(values))\n",
        "interpolant = [lagrange_interp(i, nodes, values) for i in x]\n",
        "\n",
        "plt.plot(x, interpolant)"
      ],
      "metadata": {
        "colab": {
          "base_uri": "https://localhost:8080/",
          "height": 373
        },
        "id": "ooSbRvDwIM1N",
        "outputId": "f0b85d10-0115-4616-cbb6-4ddd82a0f771"
      },
      "execution_count": 111,
      "outputs": [
        {
          "output_type": "stream",
          "name": "stdout",
          "text": [
            "10\n",
            "10\n"
          ]
        },
        {
          "output_type": "error",
          "ename": "IndexError",
          "evalue": "list index out of range",
          "traceback": [
            "\u001b[0;31m---------------------------------------------------------------------------\u001b[0m",
            "\u001b[0;31mIndexError\u001b[0m                                Traceback (most recent call last)",
            "\u001b[0;32m<ipython-input-111-3de993f72930>\u001b[0m in \u001b[0;36m<cell line: 0>\u001b[0;34m()\u001b[0m\n\u001b[1;32m      6\u001b[0m \u001b[0mvalues\u001b[0m \u001b[0;34m=\u001b[0m \u001b[0;34m[\u001b[0m\u001b[0mmy_function\u001b[0m\u001b[0;34m(\u001b[0m\u001b[0mnode\u001b[0m\u001b[0;34m)\u001b[0m \u001b[0;32mfor\u001b[0m \u001b[0mnode\u001b[0m \u001b[0;32min\u001b[0m \u001b[0mnodes\u001b[0m\u001b[0;34m]\u001b[0m\u001b[0;34m\u001b[0m\u001b[0;34m\u001b[0m\u001b[0m\n\u001b[1;32m      7\u001b[0m \u001b[0mprint\u001b[0m\u001b[0;34m(\u001b[0m\u001b[0mlen\u001b[0m\u001b[0;34m(\u001b[0m\u001b[0mvalues\u001b[0m\u001b[0;34m)\u001b[0m\u001b[0;34m)\u001b[0m\u001b[0;34m\u001b[0m\u001b[0;34m\u001b[0m\u001b[0m\n\u001b[0;32m----> 8\u001b[0;31m \u001b[0minterpolant\u001b[0m \u001b[0;34m=\u001b[0m \u001b[0;34m[\u001b[0m\u001b[0mlagrange_interp\u001b[0m\u001b[0;34m(\u001b[0m\u001b[0mi\u001b[0m\u001b[0;34m,\u001b[0m \u001b[0mnodes\u001b[0m\u001b[0;34m,\u001b[0m \u001b[0mvalues\u001b[0m\u001b[0;34m)\u001b[0m \u001b[0;32mfor\u001b[0m \u001b[0mi\u001b[0m \u001b[0;32min\u001b[0m \u001b[0mx\u001b[0m\u001b[0;34m]\u001b[0m\u001b[0;34m\u001b[0m\u001b[0;34m\u001b[0m\u001b[0m\n\u001b[0m\u001b[1;32m      9\u001b[0m \u001b[0;34m\u001b[0m\u001b[0m\n\u001b[1;32m     10\u001b[0m \u001b[0mplt\u001b[0m\u001b[0;34m.\u001b[0m\u001b[0mplot\u001b[0m\u001b[0;34m(\u001b[0m\u001b[0mx\u001b[0m\u001b[0;34m,\u001b[0m \u001b[0minterpolant\u001b[0m\u001b[0;34m)\u001b[0m\u001b[0;34m\u001b[0m\u001b[0;34m\u001b[0m\u001b[0m\n",
            "\u001b[0;32m<ipython-input-111-3de993f72930>\u001b[0m in \u001b[0;36m<listcomp>\u001b[0;34m(.0)\u001b[0m\n\u001b[1;32m      6\u001b[0m \u001b[0mvalues\u001b[0m \u001b[0;34m=\u001b[0m \u001b[0;34m[\u001b[0m\u001b[0mmy_function\u001b[0m\u001b[0;34m(\u001b[0m\u001b[0mnode\u001b[0m\u001b[0;34m)\u001b[0m \u001b[0;32mfor\u001b[0m \u001b[0mnode\u001b[0m \u001b[0;32min\u001b[0m \u001b[0mnodes\u001b[0m\u001b[0;34m]\u001b[0m\u001b[0;34m\u001b[0m\u001b[0;34m\u001b[0m\u001b[0m\n\u001b[1;32m      7\u001b[0m \u001b[0mprint\u001b[0m\u001b[0;34m(\u001b[0m\u001b[0mlen\u001b[0m\u001b[0;34m(\u001b[0m\u001b[0mvalues\u001b[0m\u001b[0;34m)\u001b[0m\u001b[0;34m)\u001b[0m\u001b[0;34m\u001b[0m\u001b[0;34m\u001b[0m\u001b[0m\n\u001b[0;32m----> 8\u001b[0;31m \u001b[0minterpolant\u001b[0m \u001b[0;34m=\u001b[0m \u001b[0;34m[\u001b[0m\u001b[0mlagrange_interp\u001b[0m\u001b[0;34m(\u001b[0m\u001b[0mi\u001b[0m\u001b[0;34m,\u001b[0m \u001b[0mnodes\u001b[0m\u001b[0;34m,\u001b[0m \u001b[0mvalues\u001b[0m\u001b[0;34m)\u001b[0m \u001b[0;32mfor\u001b[0m \u001b[0mi\u001b[0m \u001b[0;32min\u001b[0m \u001b[0mx\u001b[0m\u001b[0;34m]\u001b[0m\u001b[0;34m\u001b[0m\u001b[0;34m\u001b[0m\u001b[0m\n\u001b[0m\u001b[1;32m      9\u001b[0m \u001b[0;34m\u001b[0m\u001b[0m\n\u001b[1;32m     10\u001b[0m \u001b[0mplt\u001b[0m\u001b[0;34m.\u001b[0m\u001b[0mplot\u001b[0m\u001b[0;34m(\u001b[0m\u001b[0mx\u001b[0m\u001b[0;34m,\u001b[0m \u001b[0minterpolant\u001b[0m\u001b[0;34m)\u001b[0m\u001b[0;34m\u001b[0m\u001b[0;34m\u001b[0m\u001b[0m\n",
            "\u001b[0;32m<ipython-input-109-1dc1448933cb>\u001b[0m in \u001b[0;36mlagrange_interp\u001b[0;34m(x, nodes, values)\u001b[0m\n\u001b[1;32m      4\u001b[0m   \u001b[0msum\u001b[0m \u001b[0;34m=\u001b[0m \u001b[0;36m0\u001b[0m\u001b[0;34m\u001b[0m\u001b[0;34m\u001b[0m\u001b[0m\n\u001b[1;32m      5\u001b[0m   \u001b[0;32mfor\u001b[0m \u001b[0mi\u001b[0m \u001b[0;32min\u001b[0m \u001b[0mrange\u001b[0m\u001b[0;34m(\u001b[0m\u001b[0mlen\u001b[0m\u001b[0;34m(\u001b[0m\u001b[0mnodes\u001b[0m\u001b[0;34m)\u001b[0m\u001b[0;34m)\u001b[0m\u001b[0;34m:\u001b[0m\u001b[0;34m\u001b[0m\u001b[0;34m\u001b[0m\u001b[0m\n\u001b[0;32m----> 6\u001b[0;31m     \u001b[0msum\u001b[0m \u001b[0;34m+=\u001b[0m \u001b[0mvalues\u001b[0m\u001b[0;34m[\u001b[0m\u001b[0mi\u001b[0m\u001b[0;34m]\u001b[0m \u001b[0;34m*\u001b[0m \u001b[0mlagrange\u001b[0m\u001b[0;34m(\u001b[0m\u001b[0mi\u001b[0m\u001b[0;34m,\u001b[0m \u001b[0mnodes\u001b[0m\u001b[0;34m[\u001b[0m\u001b[0mi\u001b[0m\u001b[0;34m]\u001b[0m\u001b[0;34m,\u001b[0m \u001b[0mnodes\u001b[0m\u001b[0;34m)\u001b[0m\u001b[0;34m\u001b[0m\u001b[0;34m\u001b[0m\u001b[0m\n\u001b[0m\u001b[1;32m      7\u001b[0m   \u001b[0;32mreturn\u001b[0m \u001b[0msum\u001b[0m\u001b[0;34m\u001b[0m\u001b[0;34m\u001b[0m\u001b[0m\n",
            "\u001b[0;31mIndexError\u001b[0m: list index out of range"
          ]
        }
      ]
    },
    {
      "cell_type": "code",
      "source": [],
      "metadata": {
        "id": "1Ug6mbMqMKrc"
      },
      "execution_count": null,
      "outputs": []
    }
  ]
}